{
 "cells": [
  {
   "cell_type": "markdown",
   "metadata": {},
   "source": [
    "#!pip install GetOldTweets3\n",
    "#!pip install nltk"
   ]
  },
  {
   "cell_type": "markdown",
   "metadata": {},
   "source": [
    "import nltk"
   ]
  },
  {
   "cell_type": "markdown",
   "metadata": {},
   "source": [
    "#nltk.download('punkt')"
   ]
  },
  {
   "cell_type": "markdown",
   "metadata": {},
   "source": [
    "#nltk.download('stopwords')"
   ]
  },
  {
   "cell_type": "markdown",
   "metadata": {},
   "source": [
    "#nltk.download('wordnet')"
   ]
  },
  {
   "cell_type": "markdown",
   "metadata": {},
   "source": [
    "# Twitter Sentiment Analysis"
   ]
  },
  {
   "cell_type": "markdown",
   "metadata": {},
   "source": [
    "### Abstract"
   ]
  },
  {
   "cell_type": "markdown",
   "metadata": {},
   "source": [
    "The goal of this project was to predict sentiment for the given Twitter post using Python. Sentiment analysis can predict many different emotions attached to the text, we will predict sentiment according to our list of emotions with contain different emotions. We will use Corona Virus as our search key and will see the sentiments of the people after outbreak of corona virus."
   ]
  },
  {
   "cell_type": "markdown",
   "metadata": {},
   "source": [
    "### Used Python Libraries"
   ]
  },
  {
   "cell_type": "code",
   "execution_count": 58,
   "metadata": {},
   "outputs": [],
   "source": [
    "import string\n",
    "from collections import Counter\n",
    "import matplotlib.pyplot as plt\n",
    "import GetOldTweets3 as got"
   ]
  },
  {
   "cell_type": "markdown",
   "metadata": {},
   "source": [
    "Let's create a function to get tweets from twitter. To get tweets from twitter we will use a Library call GetOldTweets. The library provides us with a twitter manager where we can put our search query, date range, and tweet limit also. Then there is a function to get tweets. So we will integrate it."
   ]
  },
  {
   "cell_type": "code",
   "execution_count": 59,
   "metadata": {},
   "outputs": [],
   "source": [
    "def get_tweets():\n",
    "    tweetCriteria = got.manager.TweetCriteria().setQuerySearch('#CoronaVirus') \\\n",
    "        .setLang('english') \\\n",
    "        .setSince('2020-04-01') \\\n",
    "        .setUntil('2020-04-10') \\\n",
    "        .setMaxTweets(1000)\n",
    "    \n",
    "    #Creating of list that contains all tweets\n",
    "    tweets = got.manager.TweetManager.getTweets(tweetCriteria)\n",
    "    \n",
    "    #Creating list of chosen tweet data\n",
    "    tweets = [[tweet.text] for tweet in tweets]\n",
    "    return tweets"
   ]
  },
  {
   "cell_type": "markdown",
   "metadata": {},
   "source": [
    "Here we have created a function which will return us a tweets. Now, we will fetch all tweets by calling a function."
   ]
  },
  {
   "cell_type": "code",
   "execution_count": 60,
   "metadata": {},
   "outputs": [],
   "source": [
    "# reading text file\n",
    "text = \"\"\n",
    "text_tweets = get_tweets()"
   ]
  },
  {
   "cell_type": "code",
   "execution_count": 62,
   "metadata": {},
   "outputs": [
    {
     "name": "stdout",
     "output_type": "stream",
     "text": [
      "1000\n"
     ]
    }
   ],
   "source": [
    "#Get the length of tweets that we fetched\n",
    "\n",
    "length = len(text_tweets)\n",
    "print(length)"
   ]
  },
  {
   "cell_type": "markdown",
   "metadata": {},
   "source": [
    "Ok so now we have 500 scrapped tweets from twitter on Corona Virus, now we will convert our list of tweets into plain text. \n",
    "To do so, we will loop all of our tweets with for lop"
   ]
  },
  {
   "cell_type": "code",
   "execution_count": 63,
   "metadata": {},
   "outputs": [],
   "source": [
    "plain_text = ''\n",
    "for i in range(0, length):\n",
    "    plain_text = text_tweets[i][0] + \" \" + plain_text"
   ]
  },
  {
   "cell_type": "markdown",
   "metadata": {},
   "source": [
    "We have converted our list into plain text. Now, we will procced towards data cleaning."
   ]
  },
  {
   "cell_type": "markdown",
   "metadata": {},
   "source": [
    "First, we will convert our all text into lower case as it is the best practice to implement as working with text."
   ]
  },
  {
   "cell_type": "code",
   "execution_count": 64,
   "metadata": {},
   "outputs": [],
   "source": [
    "#Converting to lowercase\n",
    "\n",
    "lower_case  = plain_text.lower()"
   ]
  },
  {
   "cell_type": "markdown",
   "metadata": {},
   "source": [
    "Here we have converted our text in to lowercase. Now, we will remove all special symbols i.e. punctuation from our text."
   ]
  },
  {
   "cell_type": "code",
   "execution_count": 65,
   "metadata": {},
   "outputs": [],
   "source": [
    "#removing punctuation\n",
    "\n",
    "cleaned_text = lower_case.translate(str.maketrans('','',string.punctuation))"
   ]
  },
  {
   "cell_type": "markdown",
   "metadata": {},
   "source": [
    "Here we have removed all punctuation from our text"
   ]
  },
  {
   "cell_type": "markdown",
   "metadata": {},
   "source": [
    "Now, we will use word tokenize to seperate our words from sentence"
   ]
  },
  {
   "cell_type": "code",
   "execution_count": 66,
   "metadata": {},
   "outputs": [],
   "source": [
    "# Using word_tokenize to tokenize sentence into words\n",
    "\n",
    "from nltk.tokenize import word_tokenize\n",
    "\n",
    "tokenized_words = word_tokenize(cleaned_text, \"english\")"
   ]
  },
  {
   "cell_type": "markdown",
   "metadata": {},
   "source": [
    "Here we have converted our sentence into words. \n",
    "Now we will remove stopwords from our data"
   ]
  },
  {
   "cell_type": "code",
   "execution_count": 67,
   "metadata": {},
   "outputs": [],
   "source": [
    "#Here we are removing stopwords from data\n",
    "\n",
    "from nltk.corpus import stopwords\n",
    "\n",
    "final_words = []\n",
    "\n",
    "for word in tokenized_words:\n",
    "    if word not in stopwords.words('english'):\n",
    "        final_words.append(word)\n"
   ]
  },
  {
   "cell_type": "markdown",
   "metadata": {},
   "source": [
    "Now, we will use lemmatizer to transform our word from plural to single form "
   ]
  },
  {
   "cell_type": "code",
   "execution_count": 68,
   "metadata": {},
   "outputs": [],
   "source": [
    "# Lemmatization - From plural to single + Base form of a word (example better-> good)\n",
    "from nltk.stem import WordNetLemmatizer\n",
    "\n",
    "lemma_words = []\n",
    "\n",
    "for word in final_words:\n",
    "    word = WordNetLemmatizer().lemmatize(word)\n",
    "    lemma_words.append(word)"
   ]
  },
  {
   "cell_type": "markdown",
   "metadata": {},
   "source": [
    "Here we have converted our words to singluar form or to a base word using lemmatizer"
   ]
  },
  {
   "cell_type": "markdown",
   "metadata": {},
   "source": [
    "Now, we will import our emotion list and will check each of our word with emotion list. Will see is any of our words matches with the emotion list words, if our words will exist in list the we will fetch emotion attached to that letter."
   ]
  },
  {
   "cell_type": "code",
   "execution_count": 73,
   "metadata": {},
   "outputs": [
    {
     "name": "stdout",
     "output_type": "stream",
     "text": [
      "Count of each emotion \n",
      " Counter({' sad': 5, ' powerless': 4, ' happy': 4, ' attracted': 3, ' surprise': 3, ' fearful': 3, ' alone': 3, ' angry': 2, ' free': 2, ' esteemed': 2, ' bored': 1, ' average': 1, ' demoralized': 1, ' belittled': 1, ' entitled': 1, ' lost': 1, ' attached': 1, ' adequate': 1, ' fearless': 1, ' independent': 1, ' anxious': 1, ' cheated': 1, ' loved': 1, ' hated': 1})\n"
     ]
    }
   ],
   "source": [
    "emotion_list = []\n",
    "\n",
    "with open('emotions.txt', 'r') as file:\n",
    "    for line in file:\n",
    "        clear_line = line.replace(\"\\n\", '').replace(\",\", '').replace(\"'\", '').strip()\n",
    "        word, emotion = clear_line.split(':')\n",
    "\n",
    "        if word in lemma_words:\n",
    "            emotion_list.append(emotion)\n",
    "            \n",
    "\n",
    "\n",
    "w = Counter(emotion_list)\n",
    "print(\"Count of each emotion \\n\", w)"
   ]
  },
  {
   "cell_type": "markdown",
   "metadata": {},
   "source": [
    "As we have fetched our sentiments from emotion list with there count, now we will plot it in a graph to see the sentiment count."
   ]
  },
  {
   "cell_type": "code",
   "execution_count": 91,
   "metadata": {},
   "outputs": [
    {
     "data": {
      "image/png": "[encoded data removed]",
      "text/plain": [
       "<Figure size 432x288 with 1 Axes>"
      ]
     },
     "metadata": {
      "needs_background": "light"
     },
     "output_type": "display_data"
    }
   ],
   "source": [
    "fig, ax1 = plt.subplots()\n",
    "ax1.set_title('Sentiments on Corona Virus')\n",
    "ax1.bar(w.keys(), w.values())\n",
    "fig.autofmt_xdate(rotation=90)\n",
    "plt.savefig('graph.png')\n",
    "plt.show()"
   ]
  },
  {
   "cell_type": "markdown",
   "metadata": {},
   "source": [
    "Here we can see people sentiments after corona virus outbreak, most of the  sentiments are related with sadness, powerless, fearful etc."
   ]
  },
  {
   "cell_type": "markdown",
   "metadata": {},
   "source": [
    "In this project, we have seen sentiments of people by getting tweets of 10 days after major outbreak of corona virus. Here we have used GetOldTweets3 to fetch tweets from twitter. Also we have used tokenizer, stopwords and punctuation for our data preprocessing techniques. At the end we have used our emotion list to get sentiments from tweets."
   ]
  }
 ],
 "metadata": {
  "kernelspec": {
   "display_name": "Python 3",
   "language": "python",
   "name": "python3"
  },
  "language_info": {
   "codemirror_mode": {
    "name": "ipython",
    "version": 3
   },
   "file_extension": ".py",
   "mimetype": "text/x-python",
   "name": "python",
   "nbconvert_exporter": "python",
   "pygments_lexer": "ipython3",
   "version": "3.7.4"
  }
 },
 "nbformat": 4,
 "nbformat_minor": 2
}
