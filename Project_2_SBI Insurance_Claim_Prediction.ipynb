{
 "cells": [
  {
   "cell_type": "code",
   "execution_count": 1,
   "metadata": {},
   "outputs": [
    {
     "name": "stderr",
     "output_type": "stream",
     "text": [
      "C:\\Users\\Lenovo\\Anaconda3\\lib\\site-packages\\sklearn\\externals\\joblib\\__init__.py:15: DeprecationWarning: sklearn.externals.joblib is deprecated in 0.21 and will be removed in 0.23. Please import this functionality directly from joblib, which can be installed with: pip install joblib. If this warning is raised when loading pickled models, you may need to re-serialize those models with scikit-learn 0.21+.\n",
      "  warnings.warn(msg, category=DeprecationWarning)\n"
     ]
    }
   ],
   "source": [
    "import pandas as pd\n",
    "import numpy as np\n",
    "import seaborn as sns\n",
    "import matplotlib.pyplot as plt\n",
    "from sklearn.preprocessing import StandardScaler as SS\n",
    "from sklearn.model_selection import train_test_split, cross_val_score, GridSearchCV\n",
    "from sklearn.naive_bayes import GaussianNB as GNB\n",
    "from sklearn.tree import DecisionTreeClassifier as DTC\n",
    "from sklearn.neighbors import KNeighborsClassifier as KNN\n",
    "from sklearn.svm import SVC\n",
    "from sklearn.metrics import accuracy_score, confusion_matrix, classification_report\n",
    "from sklearn.linear_model import LogisticRegression as LR\n",
    "from sklearn.ensemble import RandomForestClassifier as RFC\n",
    "from sklearn.externals import joblib\n",
    "import warnings\n",
    "warnings.filterwarnings('ignore')"
   ]
  },
  {
   "cell_type": "code",
   "execution_count": 2,
   "metadata": {},
   "outputs": [],
   "source": [
    "#Loading dataset\n",
    "data = pd.read_csv(\"datasets/SBI_Life_insurance.csv\")"
   ]
  },
  {
   "cell_type": "code",
   "execution_count": 3,
   "metadata": {},
   "outputs": [
    {
     "data": {
      "text/html": [
       "<div>\n",
       "<style scoped>\n",
       "    .dataframe tbody tr th:only-of-type {\n",
       "        vertical-align: middle;\n",
       "    }\n",
       "\n",
       "    .dataframe tbody tr th {\n",
       "        vertical-align: top;\n",
       "    }\n",
       "\n",
       "    .dataframe thead th {\n",
       "        text-align: right;\n",
       "    }\n",
       "</style>\n",
       "<table border=\"1\" class=\"dataframe\">\n",
       "  <thead>\n",
       "    <tr style=\"text-align: right;\">\n",
       "      <th></th>\n",
       "      <th>age</th>\n",
       "      <th>sex</th>\n",
       "      <th>bmi</th>\n",
       "      <th>children</th>\n",
       "      <th>smoker</th>\n",
       "      <th>region</th>\n",
       "      <th>charges</th>\n",
       "      <th>insuranceclaim</th>\n",
       "    </tr>\n",
       "  </thead>\n",
       "  <tbody>\n",
       "    <tr>\n",
       "      <td>0</td>\n",
       "      <td>19</td>\n",
       "      <td>0</td>\n",
       "      <td>27.900</td>\n",
       "      <td>0</td>\n",
       "      <td>1</td>\n",
       "      <td>3</td>\n",
       "      <td>16884.92400</td>\n",
       "      <td>1</td>\n",
       "    </tr>\n",
       "    <tr>\n",
       "      <td>1</td>\n",
       "      <td>18</td>\n",
       "      <td>1</td>\n",
       "      <td>33.770</td>\n",
       "      <td>1</td>\n",
       "      <td>0</td>\n",
       "      <td>2</td>\n",
       "      <td>1725.55230</td>\n",
       "      <td>1</td>\n",
       "    </tr>\n",
       "    <tr>\n",
       "      <td>2</td>\n",
       "      <td>28</td>\n",
       "      <td>1</td>\n",
       "      <td>33.000</td>\n",
       "      <td>3</td>\n",
       "      <td>0</td>\n",
       "      <td>2</td>\n",
       "      <td>4449.46200</td>\n",
       "      <td>0</td>\n",
       "    </tr>\n",
       "    <tr>\n",
       "      <td>3</td>\n",
       "      <td>33</td>\n",
       "      <td>1</td>\n",
       "      <td>22.705</td>\n",
       "      <td>0</td>\n",
       "      <td>0</td>\n",
       "      <td>1</td>\n",
       "      <td>21984.47061</td>\n",
       "      <td>0</td>\n",
       "    </tr>\n",
       "    <tr>\n",
       "      <td>4</td>\n",
       "      <td>32</td>\n",
       "      <td>1</td>\n",
       "      <td>28.880</td>\n",
       "      <td>0</td>\n",
       "      <td>0</td>\n",
       "      <td>1</td>\n",
       "      <td>3866.85520</td>\n",
       "      <td>1</td>\n",
       "    </tr>\n",
       "    <tr>\n",
       "      <td>...</td>\n",
       "      <td>...</td>\n",
       "      <td>...</td>\n",
       "      <td>...</td>\n",
       "      <td>...</td>\n",
       "      <td>...</td>\n",
       "      <td>...</td>\n",
       "      <td>...</td>\n",
       "      <td>...</td>\n",
       "    </tr>\n",
       "    <tr>\n",
       "      <td>1333</td>\n",
       "      <td>50</td>\n",
       "      <td>1</td>\n",
       "      <td>30.970</td>\n",
       "      <td>3</td>\n",
       "      <td>0</td>\n",
       "      <td>1</td>\n",
       "      <td>10600.54830</td>\n",
       "      <td>0</td>\n",
       "    </tr>\n",
       "    <tr>\n",
       "      <td>1334</td>\n",
       "      <td>18</td>\n",
       "      <td>0</td>\n",
       "      <td>31.920</td>\n",
       "      <td>0</td>\n",
       "      <td>0</td>\n",
       "      <td>0</td>\n",
       "      <td>2205.98080</td>\n",
       "      <td>1</td>\n",
       "    </tr>\n",
       "    <tr>\n",
       "      <td>1335</td>\n",
       "      <td>18</td>\n",
       "      <td>0</td>\n",
       "      <td>36.850</td>\n",
       "      <td>0</td>\n",
       "      <td>0</td>\n",
       "      <td>2</td>\n",
       "      <td>1629.83350</td>\n",
       "      <td>1</td>\n",
       "    </tr>\n",
       "    <tr>\n",
       "      <td>1336</td>\n",
       "      <td>21</td>\n",
       "      <td>0</td>\n",
       "      <td>25.800</td>\n",
       "      <td>0</td>\n",
       "      <td>0</td>\n",
       "      <td>3</td>\n",
       "      <td>2007.94500</td>\n",
       "      <td>0</td>\n",
       "    </tr>\n",
       "    <tr>\n",
       "      <td>1337</td>\n",
       "      <td>61</td>\n",
       "      <td>0</td>\n",
       "      <td>29.070</td>\n",
       "      <td>0</td>\n",
       "      <td>1</td>\n",
       "      <td>1</td>\n",
       "      <td>29141.36030</td>\n",
       "      <td>1</td>\n",
       "    </tr>\n",
       "  </tbody>\n",
       "</table>\n",
       "<p>1338 rows × 8 columns</p>\n",
       "</div>"
      ],
      "text/plain": [
       "      age  sex     bmi  children  smoker  region      charges  insuranceclaim\n",
       "0      19    0  27.900         0       1       3  16884.92400               1\n",
       "1      18    1  33.770         1       0       2   1725.55230               1\n",
       "2      28    1  33.000         3       0       2   4449.46200               0\n",
       "3      33    1  22.705         0       0       1  21984.47061               0\n",
       "4      32    1  28.880         0       0       1   3866.85520               1\n",
       "...   ...  ...     ...       ...     ...     ...          ...             ...\n",
       "1333   50    1  30.970         3       0       1  10600.54830               0\n",
       "1334   18    0  31.920         0       0       0   2205.98080               1\n",
       "1335   18    0  36.850         0       0       2   1629.83350               1\n",
       "1336   21    0  25.800         0       0       3   2007.94500               0\n",
       "1337   61    0  29.070         0       1       1  29141.36030               1\n",
       "\n",
       "[1338 rows x 8 columns]"
      ]
     },
     "execution_count": 3,
     "metadata": {},
     "output_type": "execute_result"
    }
   ],
   "source": [
    "data"
   ]
  },
  {
   "cell_type": "code",
   "execution_count": 4,
   "metadata": {},
   "outputs": [
    {
     "data": {
      "text/plain": [
       "(1338, 8)"
      ]
     },
     "execution_count": 4,
     "metadata": {},
     "output_type": "execute_result"
    }
   ],
   "source": [
    "#checking shape\n",
    "data.shape"
   ]
  },
  {
   "cell_type": "code",
   "execution_count": 5,
   "metadata": {},
   "outputs": [
    {
     "name": "stdout",
     "output_type": "stream",
     "text": [
      "<class 'pandas.core.frame.DataFrame'>\n",
      "RangeIndex: 1338 entries, 0 to 1337\n",
      "Data columns (total 8 columns):\n",
      "age               1338 non-null int64\n",
      "sex               1338 non-null int64\n",
      "bmi               1338 non-null float64\n",
      "children          1338 non-null int64\n",
      "smoker            1338 non-null int64\n",
      "region            1338 non-null int64\n",
      "charges           1338 non-null float64\n",
      "insuranceclaim    1338 non-null int64\n",
      "dtypes: float64(2), int64(6)\n",
      "memory usage: 83.8 KB\n"
     ]
    }
   ],
   "source": [
    "#checking fot datatype and info\n",
    "\n",
    "data.info()"
   ]
  },
  {
   "cell_type": "code",
   "execution_count": 6,
   "metadata": {},
   "outputs": [
    {
     "data": {
      "text/plain": [
       "<matplotlib.axes._subplots.AxesSubplot at 0x29492a65288>"
      ]
     },
     "execution_count": 6,
     "metadata": {},
     "output_type": "execute_result"
    },
    {
     "data": {
      "image/png": "[encoded data removed]",
      "text/plain": [
       "<Figure size 432x288 with 2 Axes>"
      ]
     },
     "metadata": {
      "needs_background": "light"
     },
     "output_type": "display_data"
    }
   ],
   "source": [
    "#checking for null value\n",
    "\n",
    "sns.heatmap(data.isnull())"
   ]
  },
  {
   "cell_type": "markdown",
   "metadata": {},
   "source": [
    "No null values are present in data"
   ]
  },
  {
   "cell_type": "code",
   "execution_count": 7,
   "metadata": {
    "scrolled": true
   },
   "outputs": [
    {
     "data": {
      "text/html": [
       "<div>\n",
       "<style scoped>\n",
       "    .dataframe tbody tr th:only-of-type {\n",
       "        vertical-align: middle;\n",
       "    }\n",
       "\n",
       "    .dataframe tbody tr th {\n",
       "        vertical-align: top;\n",
       "    }\n",
       "\n",
       "    .dataframe thead th {\n",
       "        text-align: right;\n",
       "    }\n",
       "</style>\n",
       "<table border=\"1\" class=\"dataframe\">\n",
       "  <thead>\n",
       "    <tr style=\"text-align: right;\">\n",
       "      <th></th>\n",
       "      <th>age</th>\n",
       "      <th>sex</th>\n",
       "      <th>bmi</th>\n",
       "      <th>children</th>\n",
       "      <th>smoker</th>\n",
       "      <th>region</th>\n",
       "      <th>charges</th>\n",
       "      <th>insuranceclaim</th>\n",
       "    </tr>\n",
       "  </thead>\n",
       "  <tbody>\n",
       "    <tr>\n",
       "      <td>count</td>\n",
       "      <td>1338.000000</td>\n",
       "      <td>1338.000000</td>\n",
       "      <td>1338.000000</td>\n",
       "      <td>1338.000000</td>\n",
       "      <td>1338.000000</td>\n",
       "      <td>1338.000000</td>\n",
       "      <td>1338.000000</td>\n",
       "      <td>1338.000000</td>\n",
       "    </tr>\n",
       "    <tr>\n",
       "      <td>mean</td>\n",
       "      <td>39.207025</td>\n",
       "      <td>0.505232</td>\n",
       "      <td>30.663397</td>\n",
       "      <td>1.094918</td>\n",
       "      <td>0.204783</td>\n",
       "      <td>1.515695</td>\n",
       "      <td>13270.422265</td>\n",
       "      <td>0.585202</td>\n",
       "    </tr>\n",
       "    <tr>\n",
       "      <td>std</td>\n",
       "      <td>14.049960</td>\n",
       "      <td>0.500160</td>\n",
       "      <td>6.098187</td>\n",
       "      <td>1.205493</td>\n",
       "      <td>0.403694</td>\n",
       "      <td>1.104885</td>\n",
       "      <td>12110.011237</td>\n",
       "      <td>0.492871</td>\n",
       "    </tr>\n",
       "    <tr>\n",
       "      <td>min</td>\n",
       "      <td>18.000000</td>\n",
       "      <td>0.000000</td>\n",
       "      <td>15.960000</td>\n",
       "      <td>0.000000</td>\n",
       "      <td>0.000000</td>\n",
       "      <td>0.000000</td>\n",
       "      <td>1121.873900</td>\n",
       "      <td>0.000000</td>\n",
       "    </tr>\n",
       "    <tr>\n",
       "      <td>25%</td>\n",
       "      <td>27.000000</td>\n",
       "      <td>0.000000</td>\n",
       "      <td>26.296250</td>\n",
       "      <td>0.000000</td>\n",
       "      <td>0.000000</td>\n",
       "      <td>1.000000</td>\n",
       "      <td>4740.287150</td>\n",
       "      <td>0.000000</td>\n",
       "    </tr>\n",
       "    <tr>\n",
       "      <td>50%</td>\n",
       "      <td>39.000000</td>\n",
       "      <td>1.000000</td>\n",
       "      <td>30.400000</td>\n",
       "      <td>1.000000</td>\n",
       "      <td>0.000000</td>\n",
       "      <td>2.000000</td>\n",
       "      <td>9382.033000</td>\n",
       "      <td>1.000000</td>\n",
       "    </tr>\n",
       "    <tr>\n",
       "      <td>75%</td>\n",
       "      <td>51.000000</td>\n",
       "      <td>1.000000</td>\n",
       "      <td>34.693750</td>\n",
       "      <td>2.000000</td>\n",
       "      <td>0.000000</td>\n",
       "      <td>2.000000</td>\n",
       "      <td>16639.912515</td>\n",
       "      <td>1.000000</td>\n",
       "    </tr>\n",
       "    <tr>\n",
       "      <td>max</td>\n",
       "      <td>64.000000</td>\n",
       "      <td>1.000000</td>\n",
       "      <td>53.130000</td>\n",
       "      <td>5.000000</td>\n",
       "      <td>1.000000</td>\n",
       "      <td>3.000000</td>\n",
       "      <td>63770.428010</td>\n",
       "      <td>1.000000</td>\n",
       "    </tr>\n",
       "  </tbody>\n",
       "</table>\n",
       "</div>"
      ],
      "text/plain": [
       "               age          sex          bmi     children       smoker  \\\n",
       "count  1338.000000  1338.000000  1338.000000  1338.000000  1338.000000   \n",
       "mean     39.207025     0.505232    30.663397     1.094918     0.204783   \n",
       "std      14.049960     0.500160     6.098187     1.205493     0.403694   \n",
       "min      18.000000     0.000000    15.960000     0.000000     0.000000   \n",
       "25%      27.000000     0.000000    26.296250     0.000000     0.000000   \n",
       "50%      39.000000     1.000000    30.400000     1.000000     0.000000   \n",
       "75%      51.000000     1.000000    34.693750     2.000000     0.000000   \n",
       "max      64.000000     1.000000    53.130000     5.000000     1.000000   \n",
       "\n",
       "            region       charges  insuranceclaim  \n",
       "count  1338.000000   1338.000000     1338.000000  \n",
       "mean      1.515695  13270.422265        0.585202  \n",
       "std       1.104885  12110.011237        0.492871  \n",
       "min       0.000000   1121.873900        0.000000  \n",
       "25%       1.000000   4740.287150        0.000000  \n",
       "50%       2.000000   9382.033000        1.000000  \n",
       "75%       2.000000  16639.912515        1.000000  \n",
       "max       3.000000  63770.428010        1.000000  "
      ]
     },
     "execution_count": 7,
     "metadata": {},
     "output_type": "execute_result"
    }
   ],
   "source": [
    "#describe data\n",
    "\n",
    "data.describe()"
   ]
  },
  {
   "cell_type": "code",
   "execution_count": 8,
   "metadata": {},
   "outputs": [
    {
     "data": {
      "text/plain": [
       "<matplotlib.axes._subplots.AxesSubplot at 0x294934a3c88>"
      ]
     },
     "execution_count": 8,
     "metadata": {},
     "output_type": "execute_result"
    },
    {
     "data": {
      "image/png": "[encoded data removed]",
      "text/plain": [
       "<Figure size 432x432 with 2 Axes>"
      ]
     },
     "metadata": {
      "needs_background": "light"
     },
     "output_type": "display_data"
    }
   ],
   "source": [
    "#Checking for correlation\n",
    "plt.figure(figsize=(6,6))\n",
    "sns.heatmap(data.corr(),annot=True)"
   ]
  },
  {
   "cell_type": "code",
   "execution_count": 9,
   "metadata": {},
   "outputs": [
    {
     "data": {
      "text/html": [
       "<div>\n",
       "<style scoped>\n",
       "    .dataframe tbody tr th:only-of-type {\n",
       "        vertical-align: middle;\n",
       "    }\n",
       "\n",
       "    .dataframe tbody tr th {\n",
       "        vertical-align: top;\n",
       "    }\n",
       "\n",
       "    .dataframe thead th {\n",
       "        text-align: right;\n",
       "    }\n",
       "</style>\n",
       "<table border=\"1\" class=\"dataframe\">\n",
       "  <thead>\n",
       "    <tr style=\"text-align: right;\">\n",
       "      <th></th>\n",
       "      <th>age</th>\n",
       "      <th>sex</th>\n",
       "      <th>bmi</th>\n",
       "      <th>children</th>\n",
       "      <th>smoker</th>\n",
       "      <th>region</th>\n",
       "      <th>charges</th>\n",
       "      <th>insuranceclaim</th>\n",
       "    </tr>\n",
       "  </thead>\n",
       "  <tbody>\n",
       "    <tr>\n",
       "      <td>age</td>\n",
       "      <td>1.000000</td>\n",
       "      <td>-0.020856</td>\n",
       "      <td>0.109272</td>\n",
       "      <td>0.042469</td>\n",
       "      <td>-0.025019</td>\n",
       "      <td>0.002127</td>\n",
       "      <td>0.299008</td>\n",
       "      <td>0.113723</td>\n",
       "    </tr>\n",
       "    <tr>\n",
       "      <td>sex</td>\n",
       "      <td>-0.020856</td>\n",
       "      <td>1.000000</td>\n",
       "      <td>0.046371</td>\n",
       "      <td>0.017163</td>\n",
       "      <td>0.076185</td>\n",
       "      <td>0.004588</td>\n",
       "      <td>0.057292</td>\n",
       "      <td>0.031565</td>\n",
       "    </tr>\n",
       "    <tr>\n",
       "      <td>bmi</td>\n",
       "      <td>0.109272</td>\n",
       "      <td>0.046371</td>\n",
       "      <td>1.000000</td>\n",
       "      <td>0.012759</td>\n",
       "      <td>0.003750</td>\n",
       "      <td>0.157566</td>\n",
       "      <td>0.198341</td>\n",
       "      <td>0.384198</td>\n",
       "    </tr>\n",
       "    <tr>\n",
       "      <td>children</td>\n",
       "      <td>0.042469</td>\n",
       "      <td>0.017163</td>\n",
       "      <td>0.012759</td>\n",
       "      <td>1.000000</td>\n",
       "      <td>0.007673</td>\n",
       "      <td>0.016569</td>\n",
       "      <td>0.067998</td>\n",
       "      <td>-0.409526</td>\n",
       "    </tr>\n",
       "    <tr>\n",
       "      <td>smoker</td>\n",
       "      <td>-0.025019</td>\n",
       "      <td>0.076185</td>\n",
       "      <td>0.003750</td>\n",
       "      <td>0.007673</td>\n",
       "      <td>1.000000</td>\n",
       "      <td>-0.002181</td>\n",
       "      <td>0.787251</td>\n",
       "      <td>0.333261</td>\n",
       "    </tr>\n",
       "    <tr>\n",
       "      <td>region</td>\n",
       "      <td>0.002127</td>\n",
       "      <td>0.004588</td>\n",
       "      <td>0.157566</td>\n",
       "      <td>0.016569</td>\n",
       "      <td>-0.002181</td>\n",
       "      <td>1.000000</td>\n",
       "      <td>-0.006208</td>\n",
       "      <td>0.020891</td>\n",
       "    </tr>\n",
       "    <tr>\n",
       "      <td>charges</td>\n",
       "      <td>0.299008</td>\n",
       "      <td>0.057292</td>\n",
       "      <td>0.198341</td>\n",
       "      <td>0.067998</td>\n",
       "      <td>0.787251</td>\n",
       "      <td>-0.006208</td>\n",
       "      <td>1.000000</td>\n",
       "      <td>0.309418</td>\n",
       "    </tr>\n",
       "    <tr>\n",
       "      <td>insuranceclaim</td>\n",
       "      <td>0.113723</td>\n",
       "      <td>0.031565</td>\n",
       "      <td>0.384198</td>\n",
       "      <td>-0.409526</td>\n",
       "      <td>0.333261</td>\n",
       "      <td>0.020891</td>\n",
       "      <td>0.309418</td>\n",
       "      <td>1.000000</td>\n",
       "    </tr>\n",
       "  </tbody>\n",
       "</table>\n",
       "</div>"
      ],
      "text/plain": [
       "                     age       sex       bmi  children    smoker    region  \\\n",
       "age             1.000000 -0.020856  0.109272  0.042469 -0.025019  0.002127   \n",
       "sex            -0.020856  1.000000  0.046371  0.017163  0.076185  0.004588   \n",
       "bmi             0.109272  0.046371  1.000000  0.012759  0.003750  0.157566   \n",
       "children        0.042469  0.017163  0.012759  1.000000  0.007673  0.016569   \n",
       "smoker         -0.025019  0.076185  0.003750  0.007673  1.000000 -0.002181   \n",
       "region          0.002127  0.004588  0.157566  0.016569 -0.002181  1.000000   \n",
       "charges         0.299008  0.057292  0.198341  0.067998  0.787251 -0.006208   \n",
       "insuranceclaim  0.113723  0.031565  0.384198 -0.409526  0.333261  0.020891   \n",
       "\n",
       "                 charges  insuranceclaim  \n",
       "age             0.299008        0.113723  \n",
       "sex             0.057292        0.031565  \n",
       "bmi             0.198341        0.384198  \n",
       "children        0.067998       -0.409526  \n",
       "smoker          0.787251        0.333261  \n",
       "region         -0.006208        0.020891  \n",
       "charges         1.000000        0.309418  \n",
       "insuranceclaim  0.309418        1.000000  "
      ]
     },
     "execution_count": 9,
     "metadata": {},
     "output_type": "execute_result"
    }
   ],
   "source": [
    "data.corr()"
   ]
  },
  {
   "cell_type": "markdown",
   "metadata": {},
   "source": [
    "from the above observation, \n",
    "\n",
    "insuranceclaim is highly negatively correlated with children\n",
    "\n",
    "smoker and charges is highly correlated with each other"
   ]
  },
  {
   "cell_type": "code",
   "execution_count": 10,
   "metadata": {
    "scrolled": true
   },
   "outputs": [
    {
     "data": {
      "text/plain": [
       "<Figure size 1800x432 with 0 Axes>"
      ]
     },
     "metadata": {},
     "output_type": "display_data"
    },
    {
     "data": {
      "image/png": "[encoded data removed]",
      "text/plain": [
       "<Figure size 432x288 with 1 Axes>"
      ]
     },
     "metadata": {
      "needs_background": "light"
     },
     "output_type": "display_data"
    }
   ],
   "source": [
    "#Plotting age with insuranceclaim\n",
    "plt.figure(figsize=(25,6))\n",
    "pivot = data.pivot_table(index=\"age\",values=\"insuranceclaim\")\n",
    "pivot.plot.bar()\n",
    "\n",
    "plt.show()"
   ]
  },
  {
   "cell_type": "code",
   "execution_count": 11,
   "metadata": {},
   "outputs": [
    {
     "name": "stdout",
     "output_type": "stream",
     "text": [
      "Person who has claimed the insurance: 783\n",
      "Person who has not claimed the insurance: 555\n"
     ]
    }
   ],
   "source": [
    "#Lets check how many people has claimed insurance\n",
    "\n",
    "notclaimed = len(data[data['insuranceclaim']==0])\n",
    "claimed = len(data[data['insuranceclaim']==1])\n",
    "\n",
    "print(\"Person who has claimed the insurance:\", claimed)\n",
    "print(\"Person who has not claimed the insurance:\", notclaimed)"
   ]
  },
  {
   "cell_type": "markdown",
   "metadata": {},
   "source": [
    "#### Checking for claimed"
   ]
  },
  {
   "cell_type": "code",
   "execution_count": 12,
   "metadata": {
    "scrolled": false
   },
   "outputs": [
    {
     "name": "stdout",
     "output_type": "stream",
     "text": [
      "Men who has claimed the insurance: 406\n",
      "Women who has claimed the insurance: 377\n"
     ]
    }
   ],
   "source": [
    "#Lets check how many men and women has claimed the insurance\n",
    "\n",
    "menclaimed = len((data[(data['insuranceclaim']==1 ) & (data['sex']==1)]))\n",
    "womenclaimed = len((data[(data['insuranceclaim']==1 ) & (data['sex']==0)]))\n",
    "\n",
    "print(\"Men who has claimed the insurance:\", menclaimed)\n",
    "print(\"Women who has claimed the insurance:\", womenclaimed)"
   ]
  },
  {
   "cell_type": "markdown",
   "metadata": {},
   "source": [
    "Men has claimed has max insurance"
   ]
  },
  {
   "cell_type": "code",
   "execution_count": 13,
   "metadata": {},
   "outputs": [
    {
     "data": {
      "text/plain": [
       "array([0, 1, 3, 2, 5, 4], dtype=int64)"
      ]
     },
     "execution_count": 13,
     "metadata": {},
     "output_type": "execute_result"
    }
   ],
   "source": [
    "data.children.unique()"
   ]
  },
  {
   "cell_type": "code",
   "execution_count": 14,
   "metadata": {},
   "outputs": [
    {
     "name": "stdout",
     "output_type": "stream",
     "text": [
      "Insurance has claimed  463 times with  0 children\n",
      "Insurance has claimed  173 times with  1 children\n",
      "Insurance has claimed  45 times with  3 children\n",
      "Insurance has claimed  94 times with  2 children\n",
      "Insurance has claimed  4 times with  5 children\n",
      "Insurance has claimed  4 times with  4 children\n"
     ]
    }
   ],
   "source": [
    "#checking who has claimed insruance with children\n",
    "\n",
    "for i in data.children.unique():\n",
    "    claimed = len((data[(data['insuranceclaim']==1 ) & (data['children']==i)]))\n",
    "    \n",
    "    print(\"Insurance has claimed \",claimed ,'times with ', i, \"children\")"
   ]
  },
  {
   "cell_type": "markdown",
   "metadata": {},
   "source": [
    "Max insurance claimed for the person having 0 children"
   ]
  },
  {
   "cell_type": "code",
   "execution_count": 15,
   "metadata": {},
   "outputs": [
    {
     "name": "stdout",
     "output_type": "stream",
     "text": [
      "Insurance has claimed  183 times for region 3\n",
      "Insurance has claimed  245 times for region 2\n",
      "Insurance has claimed  163 times for region 1\n",
      "Insurance has claimed  192 times for region 0\n"
     ]
    }
   ],
   "source": [
    "#Checking with region\n",
    "\n",
    "for i in data.region.unique():\n",
    "    claimed = len((data[(data['insuranceclaim']==1 ) & (data['region']==i)]))\n",
    "    \n",
    "    print(\"Insurance has claimed \",claimed ,'times for region', i)"
   ]
  },
  {
   "cell_type": "markdown",
   "metadata": {},
   "source": [
    "Max insurance claimed for region 2 which is 245"
   ]
  },
  {
   "cell_type": "code",
   "execution_count": 16,
   "metadata": {},
   "outputs": [
    {
     "name": "stdout",
     "output_type": "stream",
     "text": [
      "Insurance has claimed  40 times for age 19\n",
      "Insurance has claimed  46 times for age 18\n",
      "Insurance has claimed  10 times for age 28\n",
      "Insurance has claimed  9 times for age 33\n",
      "Insurance has claimed  12 times for age 32\n",
      "Insurance has claimed  9 times for age 31\n",
      "Insurance has claimed  17 times for age 46\n",
      "Insurance has claimed  16 times for age 37\n",
      "Insurance has claimed  14 times for age 60\n",
      "Insurance has claimed  15 times for age 25\n",
      "Insurance has claimed  18 times for age 62\n",
      "Insurance has claimed  17 times for age 23\n",
      "Insurance has claimed  17 times for age 56\n",
      "Insurance has claimed  15 times for age 27\n",
      "Insurance has claimed  21 times for age 52\n",
      "Insurance has claimed  10 times for age 30\n",
      "Insurance has claimed  12 times for age 34\n",
      "Insurance has claimed  17 times for age 59\n",
      "Insurance has claimed  16 times for age 63\n",
      "Insurance has claimed  18 times for age 55\n",
      "Insurance has claimed  19 times for age 22\n",
      "Insurance has claimed  11 times for age 26\n",
      "Insurance has claimed  6 times for age 35\n",
      "Insurance has claimed  16 times for age 24\n",
      "Insurance has claimed  14 times for age 41\n",
      "Insurance has claimed  7 times for age 38\n",
      "Insurance has claimed  13 times for age 36\n",
      "Insurance has claimed  16 times for age 21\n",
      "Insurance has claimed  19 times for age 48\n",
      "Insurance has claimed  10 times for age 40\n",
      "Insurance has claimed  20 times for age 58\n",
      "Insurance has claimed  21 times for age 53\n",
      "Insurance has claimed  19 times for age 43\n",
      "Insurance has claimed  18 times for age 64\n",
      "Insurance has claimed  23 times for age 20\n",
      "Insurance has claimed  16 times for age 61\n",
      "Insurance has claimed  18 times for age 44\n",
      "Insurance has claimed  18 times for age 57\n",
      "Insurance has claimed  11 times for age 29\n",
      "Insurance has claimed  20 times for age 45\n",
      "Insurance has claimed  17 times for age 54\n",
      "Insurance has claimed  14 times for age 49\n",
      "Insurance has claimed  21 times for age 47\n",
      "Insurance has claimed  19 times for age 51\n",
      "Insurance has claimed  20 times for age 42\n",
      "Insurance has claimed  19 times for age 50\n",
      "Insurance has claimed  9 times for age 39\n",
      "\n",
      "Insurance has max claimed for the age 18 which is  46\n"
     ]
    }
   ],
   "source": [
    "#Checking with age\n",
    "max_claimed_for = 0\n",
    "max_claimed = 0\n",
    "for i in data.age.unique():\n",
    "    claimed = len((data[(data['insuranceclaim']==1 ) & (data['age']==i)]))\n",
    "    \n",
    "    if claimed > max_claimed:\n",
    "        max_claimed_for = i\n",
    "        max_claimed = claimed\n",
    "    \n",
    "    print(\"Insurance has claimed \",claimed ,'times for age', i)\n",
    "\n",
    "print()\n",
    "print(\"Insurance has max claimed for the age\", max_claimed_for, 'which is ', max_claimed)"
   ]
  },
  {
   "cell_type": "markdown",
   "metadata": {},
   "source": [
    "#### Checking for Not claimed"
   ]
  },
  {
   "cell_type": "code",
   "execution_count": 17,
   "metadata": {},
   "outputs": [
    {
     "name": "stdout",
     "output_type": "stream",
     "text": [
      "Men who has not claimed the insurance: 270\n",
      "Women who has not claimed the insurance: 285\n"
     ]
    }
   ],
   "source": [
    "#Lets check how many men and women has claimed the insurance\n",
    "\n",
    "menclaimed = len((data[(data['insuranceclaim']==0) & (data['sex']==1)]))\n",
    "womenclaimed = len((data[(data['insuranceclaim']==0 ) & (data['sex']==0)]))\n",
    "\n",
    "print(\"Men who has not claimed the insurance:\", menclaimed)\n",
    "print(\"Women who has not claimed the insurance:\", womenclaimed)"
   ]
  },
  {
   "cell_type": "code",
   "execution_count": 18,
   "metadata": {},
   "outputs": [
    {
     "name": "stdout",
     "output_type": "stream",
     "text": [
      "Insurance has not claimed  111 times with  0 children\n",
      "Insurance has not claimed  151 times with  1 children\n",
      "Insurance has not claimed  112 times with  3 children\n",
      "Insurance has not claimed  146 times with  2 children\n",
      "Insurance has not claimed  14 times with  5 children\n",
      "Insurance has not claimed  21 times with  4 children\n"
     ]
    }
   ],
   "source": [
    "#checking who has not claimed insruance with children\n",
    "\n",
    "for i in data.children.unique():\n",
    "    claimed = len((data[(data['insuranceclaim']==0 ) & (data['children']==i)]))\n",
    "    \n",
    "    print(\"Insurance has not claimed \",claimed ,'times with ', i, \"children\")"
   ]
  },
  {
   "cell_type": "markdown",
   "metadata": {},
   "source": [
    "Person with 1 child has not claimed most"
   ]
  },
  {
   "cell_type": "code",
   "execution_count": 19,
   "metadata": {},
   "outputs": [
    {
     "name": "stdout",
     "output_type": "stream",
     "text": [
      "Insurance has not claimed  142 times for region 3\n",
      "Insurance has not claimed  119 times for region 2\n",
      "Insurance has not claimed  162 times for region 1\n",
      "Insurance has not claimed  132 times for region 0\n"
     ]
    }
   ],
   "source": [
    "#Checking with region\n",
    "\n",
    "for i in data.region.unique():\n",
    "    claimed = len((data[(data['insuranceclaim']==0 ) & (data['region']==i)]))\n",
    "    \n",
    "    print(\"Insurance has not claimed \",claimed ,'times for region', i)"
   ]
  },
  {
   "cell_type": "markdown",
   "metadata": {},
   "source": [
    "Insurance has not claimed for 162 time from region 1"
   ]
  },
  {
   "cell_type": "code",
   "execution_count": 20,
   "metadata": {},
   "outputs": [
    {
     "name": "stdout",
     "output_type": "stream",
     "text": [
      "Insurance has not claimed  28 times for age 19\n",
      "Insurance has not claimed  23 times for age 18\n",
      "Insurance has not claimed  18 times for age 28\n",
      "Insurance has not claimed  17 times for age 33\n",
      "Insurance has not claimed  14 times for age 32\n",
      "Insurance has not claimed  18 times for age 31\n",
      "Insurance has not claimed  12 times for age 46\n",
      "Insurance has not claimed  9 times for age 37\n",
      "Insurance has not claimed  9 times for age 60\n",
      "Insurance has not claimed  13 times for age 25\n",
      "Insurance has not claimed  5 times for age 62\n",
      "Insurance has not claimed  11 times for age 23\n",
      "Insurance has not claimed  9 times for age 56\n",
      "Insurance has not claimed  13 times for age 27\n",
      "Insurance has not claimed  8 times for age 52\n",
      "Insurance has not claimed  17 times for age 30\n",
      "Insurance has not claimed  14 times for age 34\n",
      "Insurance has not claimed  8 times for age 59\n",
      "Insurance has not claimed  7 times for age 63\n",
      "Insurance has not claimed  8 times for age 55\n",
      "Insurance has not claimed  9 times for age 22\n",
      "Insurance has not claimed  17 times for age 26\n",
      "Insurance has not claimed  19 times for age 35\n",
      "Insurance has not claimed  12 times for age 24\n",
      "Insurance has not claimed  13 times for age 41\n",
      "Insurance has not claimed  18 times for age 38\n",
      "Insurance has not claimed  12 times for age 36\n",
      "Insurance has not claimed  12 times for age 21\n",
      "Insurance has not claimed  10 times for age 48\n",
      "Insurance has not claimed  17 times for age 40\n",
      "Insurance has not claimed  5 times for age 58\n",
      "Insurance has not claimed  7 times for age 53\n",
      "Insurance has not claimed  8 times for age 43\n",
      "Insurance has not claimed  4 times for age 64\n",
      "Insurance has not claimed  6 times for age 20\n",
      "Insurance has not claimed  7 times for age 61\n",
      "Insurance has not claimed  9 times for age 44\n",
      "Insurance has not claimed  8 times for age 57\n",
      "Insurance has not claimed  16 times for age 29\n",
      "Insurance has not claimed  9 times for age 45\n",
      "Insurance has not claimed  11 times for age 54\n",
      "Insurance has not claimed  14 times for age 49\n",
      "Insurance has not claimed  8 times for age 47\n",
      "Insurance has not claimed  10 times for age 51\n",
      "Insurance has not claimed  7 times for age 42\n",
      "Insurance has not claimed  10 times for age 50\n",
      "Insurance has not claimed  16 times for age 39\n",
      "\n",
      "Insurance has max not claimed for the age 19 which is  28\n"
     ]
    }
   ],
   "source": [
    "#Checking with age\n",
    "max_claimed_for = 0\n",
    "max_claimed = 0\n",
    "for i in data.age.unique():\n",
    "    claimed = len((data[(data['insuranceclaim']==0 ) & (data['age']==i)]))\n",
    "    \n",
    "    if claimed > max_claimed:\n",
    "        max_claimed_for = i\n",
    "        max_claimed = claimed\n",
    "    \n",
    "    print(\"Insurance has not claimed \",claimed ,'times for age', i)\n",
    "\n",
    "print()\n",
    "print(\"Insurance has max not claimed for the age\", max_claimed_for, 'which is ', max_claimed)"
   ]
  },
  {
   "cell_type": "code",
   "execution_count": 21,
   "metadata": {},
   "outputs": [
    {
     "data": {
      "text/plain": [
       "age                  AxesSubplot(0.125,0.536818;0.168478x0.343182)\n",
       "sex               AxesSubplot(0.327174,0.536818;0.168478x0.343182)\n",
       "bmi               AxesSubplot(0.529348,0.536818;0.168478x0.343182)\n",
       "children          AxesSubplot(0.731522,0.536818;0.168478x0.343182)\n",
       "smoker                  AxesSubplot(0.125,0.125;0.168478x0.343182)\n",
       "region               AxesSubplot(0.327174,0.125;0.168478x0.343182)\n",
       "charges              AxesSubplot(0.529348,0.125;0.168478x0.343182)\n",
       "insuranceclaim       AxesSubplot(0.731522,0.125;0.168478x0.343182)\n",
       "dtype: object"
      ]
     },
     "execution_count": 21,
     "metadata": {},
     "output_type": "execute_result"
    },
    {
     "data": {
      "image/png": "[encoded data removed]",
      "text/plain": [
       "<Figure size 432x288 with 8 Axes>"
      ]
     },
     "metadata": {
      "needs_background": "light"
     },
     "output_type": "display_data"
    }
   ],
   "source": [
    "#displaying box plot for outliers\n",
    "data.plot(kind='box',subplots=True,layout=(2,4))"
   ]
  },
  {
   "cell_type": "code",
   "execution_count": 22,
   "metadata": {},
   "outputs": [],
   "source": [
    "#removing outliers present\n",
    "from scipy.stats import zscore\n",
    "z = np.abs(zscore(data))\n",
    "data = data[(z<3).all(axis=1)]"
   ]
  },
  {
   "cell_type": "code",
   "execution_count": 23,
   "metadata": {},
   "outputs": [
    {
     "data": {
      "text/plain": [
       "age                  AxesSubplot(0.125,0.536818;0.168478x0.343182)\n",
       "sex               AxesSubplot(0.327174,0.536818;0.168478x0.343182)\n",
       "bmi               AxesSubplot(0.529348,0.536818;0.168478x0.343182)\n",
       "children          AxesSubplot(0.731522,0.536818;0.168478x0.343182)\n",
       "smoker                  AxesSubplot(0.125,0.125;0.168478x0.343182)\n",
       "region               AxesSubplot(0.327174,0.125;0.168478x0.343182)\n",
       "charges              AxesSubplot(0.529348,0.125;0.168478x0.343182)\n",
       "insuranceclaim       AxesSubplot(0.731522,0.125;0.168478x0.343182)\n",
       "dtype: object"
      ]
     },
     "execution_count": 23,
     "metadata": {},
     "output_type": "execute_result"
    },
    {
     "data": {
      "image/png": "[encoded data removed]",
      "text/plain": [
       "<Figure size 432x288 with 8 Axes>"
      ]
     },
     "metadata": {
      "needs_background": "light"
     },
     "output_type": "display_data"
    }
   ],
   "source": [
    "#displaying box plot for outliers\n",
    "data.plot(kind='box',subplots=True,layout=(2,4))"
   ]
  },
  {
   "cell_type": "code",
   "execution_count": 24,
   "metadata": {},
   "outputs": [
    {
     "data": {
      "image/png": "[encoded data removed]",
      "text/plain": [
       "<Figure size 3600x3600 with 8 Axes>"
      ]
     },
     "metadata": {
      "needs_background": "light"
     },
     "output_type": "display_data"
    }
   ],
   "source": [
    "#checking for swekness\n",
    "collist = data.columns.values\n",
    "ncol = 12\n",
    "nrows = 10\n",
    "plt.figure(figsize=(50,50))\n",
    "for i in range(0,len(collist)):\n",
    "    plt.subplot(nrows,ncol,i+1)\n",
    "    sns.distplot(data[collist[i]])"
   ]
  },
  {
   "cell_type": "code",
   "execution_count": 25,
   "metadata": {},
   "outputs": [
    {
     "data": {
      "text/plain": [
       "array([[<matplotlib.axes._subplots.AxesSubplot object at 0x0000029493BE9BC8>,\n",
       "        <matplotlib.axes._subplots.AxesSubplot object at 0x00000294936F0448>,\n",
       "        <matplotlib.axes._subplots.AxesSubplot object at 0x00000294936E8A48>],\n",
       "       [<matplotlib.axes._subplots.AxesSubplot object at 0x0000029494092488>,\n",
       "        <matplotlib.axes._subplots.AxesSubplot object at 0x00000294940C6E48>,\n",
       "        <matplotlib.axes._subplots.AxesSubplot object at 0x0000029494102848>],\n",
       "       [<matplotlib.axes._subplots.AxesSubplot object at 0x000002949413C208>,\n",
       "        <matplotlib.axes._subplots.AxesSubplot object at 0x0000029494170B48>,\n",
       "        <matplotlib.axes._subplots.AxesSubplot object at 0x000002949417CC88>]],\n",
       "      dtype=object)"
      ]
     },
     "execution_count": 25,
     "metadata": {},
     "output_type": "execute_result"
    },
    {
     "data": {
      "image/png": "[encoded data removed]",
      "text/plain": [
       "<Figure size 864x864 with 9 Axes>"
      ]
     },
     "metadata": {
      "needs_background": "light"
     },
     "output_type": "display_data"
    }
   ],
   "source": [
    "data.hist(figsize=(12,12))"
   ]
  },
  {
   "cell_type": "markdown",
   "metadata": {},
   "source": [
    "Data is not distributed well"
   ]
  },
  {
   "cell_type": "code",
   "execution_count": 26,
   "metadata": {},
   "outputs": [
    {
     "data": {
      "text/plain": [
       "age               0.051340\n",
       "sex              -0.010708\n",
       "bmi               0.191432\n",
       "children          0.738119\n",
       "smoker            1.482731\n",
       "region           -0.023027\n",
       "charges           1.437160\n",
       "insuranceclaim   -0.352569\n",
       "dtype: float64"
      ]
     },
     "execution_count": 26,
     "metadata": {},
     "output_type": "execute_result"
    }
   ],
   "source": [
    "data.skew()"
   ]
  },
  {
   "cell_type": "code",
   "execution_count": 27,
   "metadata": {},
   "outputs": [],
   "source": [
    "\n",
    "for col in data.columns:\n",
    "    transform = np.sqrt(data[col])\n",
    "    data[col] = transform"
   ]
  },
  {
   "cell_type": "code",
   "execution_count": 28,
   "metadata": {},
   "outputs": [
    {
     "data": {
      "text/plain": [
       "age              -0.160095\n",
       "sex              -0.010708\n",
       "bmi              -0.054318\n",
       "children          0.080139\n",
       "smoker            1.482731\n",
       "region           -0.686135\n",
       "charges           0.753701\n",
       "insuranceclaim   -0.352569\n",
       "dtype: float64"
      ]
     },
     "execution_count": 28,
     "metadata": {},
     "output_type": "execute_result"
    }
   ],
   "source": [
    "data.skew()"
   ]
  },
  {
   "cell_type": "code",
   "execution_count": 29,
   "metadata": {},
   "outputs": [],
   "source": [
    "#Scaling the data\n",
    "\n",
    "x = data.iloc[:,0:-1]\n",
    "y = data.insuranceclaim"
   ]
  },
  {
   "cell_type": "code",
   "execution_count": 30,
   "metadata": {},
   "outputs": [
    {
     "data": {
      "text/plain": [
       "(1309,)"
      ]
     },
     "execution_count": 30,
     "metadata": {},
     "output_type": "execute_result"
    }
   ],
   "source": [
    "y.shape"
   ]
  },
  {
   "cell_type": "code",
   "execution_count": 31,
   "metadata": {},
   "outputs": [
    {
     "data": {
      "text/plain": [
       "(1309, 7)"
      ]
     },
     "execution_count": 31,
     "metadata": {},
     "output_type": "execute_result"
    }
   ],
   "source": [
    "x.shape"
   ]
  },
  {
   "cell_type": "code",
   "execution_count": 32,
   "metadata": {},
   "outputs": [],
   "source": [
    "#Using standard scaler \n",
    "ss=SS()\n",
    "ss.fit(x)\n",
    "x=ss.transform(x)"
   ]
  },
  {
   "cell_type": "code",
   "execution_count": 33,
   "metadata": {},
   "outputs": [
    {
     "data": {
      "text/plain": [
       "array([[-1.5555543 , -1.00536197, -0.40794377, ...,  1.98484827,\n",
       "         1.06601683,  0.54532503],\n",
       "       [-1.65606066,  0.99466663,  0.56654139, ..., -0.50381685,\n",
       "         0.57423597, -1.33493761],\n",
       "       [-0.74930959,  0.99466663,  0.44382916, ..., -0.50381685,\n",
       "         0.57423597, -0.79970332],\n",
       "       ...,\n",
       "       [-1.65606066, -1.00536197,  1.0439286 , ..., -0.50381685,\n",
       "         0.57423597, -1.35979242],\n",
       "       [-1.36218363, -1.00536197, -0.78119032, ..., -0.50381685,\n",
       "         1.06601683, -1.26537961],\n",
       "       [ 1.42817107, -1.00536197, -0.20607635, ...,  1.98484827,\n",
       "        -0.06666532,  1.41240207]])"
      ]
     },
     "execution_count": 33,
     "metadata": {},
     "output_type": "execute_result"
    }
   ],
   "source": [
    "x"
   ]
  },
  {
   "cell_type": "markdown",
   "metadata": {},
   "source": [
    "### TESTING MODEL WITH TRAIN AND TEST"
   ]
  },
  {
   "cell_type": "code",
   "execution_count": 34,
   "metadata": {},
   "outputs": [],
   "source": [
    "def best_model(model):\n",
    "    i = 0\n",
    "    max_accu_score = 0 #max accuracy score defining\n",
    "    for r_state in range(42,101):\n",
    "        train_x, test_x, train_y, test_y = train_test_split(x,y,test_size=0.2, random_state=r_state)\n",
    "        model.fit(train_x,train_y)\n",
    "        pred_y = model.predict(test_x)\n",
    "        accu_score = accuracy_score(test_y,pred_y)\n",
    "        accu_score = round(accu_score*100)\n",
    "        if accu_score > max_accu_score:\n",
    "            max_accu_score = accu_score\n",
    "            final_r_state = r_state\n",
    "    print(\"Max Accuracy Score Corresponding to random state \", final_r_state, \" is \",max_accu_score)    "
   ]
  },
  {
   "cell_type": "markdown",
   "metadata": {},
   "source": [
    "#### LOGISTIC REGRESSION"
   ]
  },
  {
   "cell_type": "code",
   "execution_count": 35,
   "metadata": {
    "scrolled": true
   },
   "outputs": [
    {
     "name": "stdout",
     "output_type": "stream",
     "text": [
      "Max Accuracy Score Corresponding to random state  44  is  89.0\n"
     ]
    }
   ],
   "source": [
    "#Logistic regression with train test split\n",
    "lr = LR()\n",
    "best_model(lr)"
   ]
  },
  {
   "cell_type": "markdown",
   "metadata": {},
   "source": [
    "#### DECISION TREE CLASSIFIER"
   ]
  },
  {
   "cell_type": "code",
   "execution_count": 36,
   "metadata": {},
   "outputs": [
    {
     "name": "stdout",
     "output_type": "stream",
     "text": [
      "Max Accuracy Score Corresponding to random state  74  is  100.0\n"
     ]
    }
   ],
   "source": [
    "dtc = DTC()\n",
    "best_model(dtc)"
   ]
  },
  {
   "cell_type": "markdown",
   "metadata": {},
   "source": [
    "#### SVC"
   ]
  },
  {
   "cell_type": "code",
   "execution_count": 37,
   "metadata": {},
   "outputs": [
    {
     "name": "stdout",
     "output_type": "stream",
     "text": [
      "Testing for SVC Kernel =  rbf\n",
      "Max Accuracy Score Corresponding to random state  45  is  93.0\n",
      "\n",
      "Testing for SVC Kernel =  poly\n",
      "Max Accuracy Score Corresponding to random state  49  is  91.0\n",
      "\n",
      "Testing for SVC Kernel =  linear\n",
      "Max Accuracy Score Corresponding to random state  44  is  90.0\n",
      "\n"
     ]
    }
   ],
   "source": [
    "svclist = ['rbf','poly','linear']\n",
    "\n",
    "for svck in svclist:\n",
    "    svc = SVC(kernel=svck)\n",
    "    print('Testing for SVC Kernel = ', svck)\n",
    "    r_state_svm =  best_model(svc)\n",
    "    print()"
   ]
  },
  {
   "cell_type": "markdown",
   "metadata": {},
   "source": [
    "#### GAUSSIAN NB"
   ]
  },
  {
   "cell_type": "code",
   "execution_count": 38,
   "metadata": {},
   "outputs": [
    {
     "name": "stdout",
     "output_type": "stream",
     "text": [
      "Max Accuracy Score Corresponding to random state  56  is  83.0\n"
     ]
    }
   ],
   "source": [
    "gnb = GNB()\n",
    "best_model(gnb)"
   ]
  },
  {
   "cell_type": "markdown",
   "metadata": {},
   "source": [
    "#### KNN"
   ]
  },
  {
   "cell_type": "code",
   "execution_count": 39,
   "metadata": {},
   "outputs": [
    {
     "data": {
      "text/plain": [
       "{'n_neighbors': 3}"
      ]
     },
     "execution_count": 39,
     "metadata": {},
     "output_type": "execute_result"
    }
   ],
   "source": [
    "neighbors = {\"n_neighbors\":range(1,30)}\n",
    "knn = KNN()\n",
    "gknn = GridSearchCV(knn,neighbors,cv=10)\n",
    "gknn.fit(x,y)\n",
    "gknn.best_params_"
   ]
  },
  {
   "cell_type": "code",
   "execution_count": 40,
   "metadata": {},
   "outputs": [
    {
     "name": "stdout",
     "output_type": "stream",
     "text": [
      "Max Accuracy Score Corresponding to random state  66  is  93.0\n"
     ]
    }
   ],
   "source": [
    "knn = KNN(n_neighbors=3)\n",
    "best_model(knn)"
   ]
  },
  {
   "cell_type": "markdown",
   "metadata": {},
   "source": [
    "#### RANDOM FOREST CLASSIFIER"
   ]
  },
  {
   "cell_type": "code",
   "execution_count": 41,
   "metadata": {},
   "outputs": [
    {
     "data": {
      "text/plain": [
       "{'n_estimators': 700}"
      ]
     },
     "execution_count": 41,
     "metadata": {},
     "output_type": "execute_result"
    }
   ],
   "source": [
    "rfc = RFC(n_estimators=50) \n",
    "\n",
    "param_grid = { \n",
    "    'n_estimators': [200, 700]\n",
    "}\n",
    "\n",
    "CV_rfc = GridSearchCV(estimator=rfc, param_grid=param_grid, cv= 5)\n",
    "CV_rfc.fit(x, y)\n",
    "CV_rfc.best_params_"
   ]
  },
  {
   "cell_type": "code",
   "execution_count": 42,
   "metadata": {},
   "outputs": [
    {
     "name": "stdout",
     "output_type": "stream",
     "text": [
      "Max Accuracy Score Corresponding to random state  77  is  99.0\n"
     ]
    }
   ],
   "source": [
    "rfc=RFC(n_estimators=200)\n",
    "best_model(rfc)"
   ]
  },
  {
   "cell_type": "markdown",
   "metadata": {},
   "source": [
    "### TESTING USING CROSS VAL SCORE"
   ]
  },
  {
   "cell_type": "code",
   "execution_count": 43,
   "metadata": {},
   "outputs": [],
   "source": [
    "def cross_val_function(model):\n",
    "    score = cross_val_score(model,x,y,cv=5,scoring='accuracy')\n",
    "\n",
    "    print('Cross Val Score: ', score)\n",
    "    print('Mean Scores: ',score.mean())\n",
    "    print('Standard deviation: ',score.std())\n",
    "\n",
    "    print('Score :', round(score.mean()*100))"
   ]
  },
  {
   "cell_type": "markdown",
   "metadata": {},
   "source": [
    "#### LOGISTIC REGRESSION"
   ]
  },
  {
   "cell_type": "code",
   "execution_count": 44,
   "metadata": {},
   "outputs": [
    {
     "name": "stdout",
     "output_type": "stream",
     "text": [
      "Cross Val Score:  [0.84410646 0.88931298 0.8740458  0.88122605 0.83524904]\n",
      "Mean Scores:  0.8647880676579444\n",
      "Standard deviation:  0.021249315121886672\n",
      "Score : 86.0\n"
     ]
    }
   ],
   "source": [
    "lr = LR()\n",
    "cross_val_function(lr)"
   ]
  },
  {
   "cell_type": "markdown",
   "metadata": {},
   "source": [
    "#### DECISSION TREE CLASSIFIER"
   ]
  },
  {
   "cell_type": "code",
   "execution_count": 45,
   "metadata": {},
   "outputs": [
    {
     "name": "stdout",
     "output_type": "stream",
     "text": [
      "Cross Val Score:  [0.98859316 0.94274809 0.97328244 0.98467433 0.98850575]\n",
      "Mean Scores:  0.9755607533746067\n",
      "Standard deviation:  0.017333984656297707\n",
      "Score : 98.0\n"
     ]
    }
   ],
   "source": [
    "dtc = DTC()\n",
    "cross_val_function(dtc)"
   ]
  },
  {
   "cell_type": "markdown",
   "metadata": {},
   "source": [
    "#### SVC"
   ]
  },
  {
   "cell_type": "code",
   "execution_count": 46,
   "metadata": {},
   "outputs": [
    {
     "name": "stdout",
     "output_type": "stream",
     "text": [
      "Testing for SVC Kernel =  rbf\n",
      "Cross Val Score:  [0.88593156 0.88549618 0.88931298 0.93869732 0.88122605]\n",
      "Mean Scores:  0.8961328181776429\n",
      "Standard deviation:  0.02143670777309671\n",
      "Score : 90.0\n",
      "\n",
      "Testing for SVC Kernel =  poly\n",
      "Cross Val Score:  [0.87452471 0.88549618 0.8778626  0.92337165 0.85440613]\n",
      "Mean Scores:  0.8831322542465259\n",
      "Standard deviation:  0.022591353071909476\n",
      "Score : 88.0\n",
      "\n",
      "Testing for SVC Kernel =  linear\n",
      "Cross Val Score:  [0.84790875 0.8740458  0.87022901 0.87739464 0.85440613]\n",
      "Mean Scores:  0.8647968641381956\n",
      "Standard deviation:  0.011549292550409972\n",
      "Score : 86.0\n",
      "\n"
     ]
    }
   ],
   "source": [
    "svclist = ['rbf','poly','linear']\n",
    "\n",
    "for svck in svclist:\n",
    "    svc = SVC(kernel=svck)\n",
    "    print('Testing for SVC Kernel = ', svck)\n",
    "    r_state_svm =  cross_val_function(svc)\n",
    "    print()"
   ]
  },
  {
   "cell_type": "markdown",
   "metadata": {},
   "source": [
    "#### GAUSSIAN NB"
   ]
  },
  {
   "cell_type": "code",
   "execution_count": 47,
   "metadata": {},
   "outputs": [
    {
     "name": "stdout",
     "output_type": "stream",
     "text": [
      "Cross Val Score:  [0.72243346 0.79007634 0.78244275 0.82375479 0.75095785]\n",
      "Mean Scores:  0.7739330375447344\n",
      "Standard deviation:  0.034627427624777704\n",
      "Score : 77.0\n"
     ]
    }
   ],
   "source": [
    "gnb = GNB()\n",
    "cross_val_function(gnb)"
   ]
  },
  {
   "cell_type": "markdown",
   "metadata": {},
   "source": [
    "#### KNN"
   ]
  },
  {
   "cell_type": "code",
   "execution_count": 48,
   "metadata": {},
   "outputs": [
    {
     "name": "stdout",
     "output_type": "stream",
     "text": [
      "Cross Val Score:  [0.8973384  0.88549618 0.88167939 0.92337165 0.92720307]\n",
      "Mean Scores:  0.9030177376409174\n",
      "Standard deviation:  0.018940942603572024\n",
      "Score : 90.0\n"
     ]
    }
   ],
   "source": [
    "knn = KNN(n_neighbors=3)\n",
    "cross_val_function(knn)"
   ]
  },
  {
   "cell_type": "markdown",
   "metadata": {},
   "source": [
    "#### RANDOM FOREST CLASSIFIER"
   ]
  },
  {
   "cell_type": "code",
   "execution_count": 49,
   "metadata": {},
   "outputs": [
    {
     "name": "stdout",
     "output_type": "stream",
     "text": [
      "Cross Val Score:  [0.93155894 0.95038168 0.96564885 0.98467433 0.95402299]\n",
      "Mean Scores:  0.9572573575440048\n",
      "Standard deviation:  0.017551367901685818\n",
      "Score : 96.0\n"
     ]
    }
   ],
   "source": [
    "rfc=RFC(n_estimators=200)\n",
    "cross_val_function(rfc)"
   ]
  },
  {
   "cell_type": "markdown",
   "metadata": {},
   "source": [
    "FROM THE ABOVE ALL MODEL DECISSION TREE CLASSIFIER HAS PERFORMED WELL THAN OTHER MODEL\n",
    "\n",
    "WE ARE USING DECISSION TREE CLASSIFIER WITH TRAIN TEST SPLIT TO SAVE OUR MODEL"
   ]
  },
  {
   "cell_type": "code",
   "execution_count": 50,
   "metadata": {},
   "outputs": [
    {
     "name": "stdout",
     "output_type": "stream",
     "text": [
      "Accuracy score is :  100.0\n",
      "Confusion matrix is\n",
      "\n",
      "[[107   1]\n",
      " [  0 154]]\n",
      "Classification report \n",
      "\n",
      "              precision    recall  f1-score   support\n",
      "\n",
      "         0.0       1.00      0.99      1.00       108\n",
      "         1.0       0.99      1.00      1.00       154\n",
      "\n",
      "    accuracy                           1.00       262\n",
      "   macro avg       1.00      1.00      1.00       262\n",
      "weighted avg       1.00      1.00      1.00       262\n",
      "\n"
     ]
    }
   ],
   "source": [
    "#decision tree gave max score for random state = 74\n",
    "dtc = DTC()\n",
    "train_x, test_x, train_y, test_y = train_test_split(x,y,test_size=0.2, random_state=74)\n",
    "dtc.fit(train_x,train_y)\n",
    "pred_y = dtc.predict(test_x)\n",
    "accu_score = accuracy_score(test_y,pred_y)\n",
    "accu_score = round(accu_score*100)\n",
    "print(\"Accuracy score is : \", accu_score)\n",
    "print(\"Confusion matrix is\")\n",
    "print()\n",
    "print(confusion_matrix(test_y,pred_y))\n",
    "print(\"Classification report \")\n",
    "print()\n",
    "print(classification_report(test_y,pred_y))"
   ]
  },
  {
   "cell_type": "markdown",
   "metadata": {},
   "source": [
    "#### SAVING THE MODEL"
   ]
  },
  {
   "cell_type": "code",
   "execution_count": 51,
   "metadata": {},
   "outputs": [
    {
     "data": {
      "text/plain": [
       "['Project_2_SBI Insurance_Claim_Prediction.pkl']"
      ]
     },
     "execution_count": 51,
     "metadata": {},
     "output_type": "execute_result"
    }
   ],
   "source": [
    "joblib.dump(dtc, 'Project_2_SBI Insurance_Claim_Prediction.pkl')"
   ]
  }
 ],
 "metadata": {
  "kernelspec": {
   "display_name": "Python 3",
   "language": "python",
   "name": "python3"
  },
  "language_info": {
   "codemirror_mode": {
    "name": "ipython",
    "version": 3
   },
   "file_extension": ".py",
   "mimetype": "text/x-python",
   "name": "python",
   "nbconvert_exporter": "python",
   "pygments_lexer": "ipython3",
   "version": "3.7.4"
  }
 },
 "nbformat": 4,
 "nbformat_minor": 2
}
